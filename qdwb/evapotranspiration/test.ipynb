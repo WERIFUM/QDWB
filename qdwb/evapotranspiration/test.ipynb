{
 "cells": [
  {
   "cell_type": "markdown",
   "metadata": {},
   "source": [
    "# The Current Working Directory"
   ]
  },
  {
   "cell_type": "code",
   "execution_count": 1,
   "metadata": {},
   "outputs": [
    {
     "name": "stdout",
     "output_type": "stream",
     "text": [
      "/home/pooya/w/QDWB/qdwb/evapotranspiration\n"
     ]
    }
   ],
   "source": [
    "!pwd"
   ]
  },
  {
   "cell_type": "markdown",
   "metadata": {},
   "source": [
    "# Import Python Modules"
   ]
  },
  {
   "cell_type": "code",
   "execution_count": 2,
   "metadata": {},
   "outputs": [],
   "source": [
    "import pet\n",
    "import convert\n",
    "import check"
   ]
  },
  {
   "cell_type": "markdown",
   "metadata": {},
   "source": [
    "# Check"
   ]
  },
  {
   "cell_type": "markdown",
   "metadata": {},
   "source": [
    "### Test Check Julian Day of the Year Is Valid"
   ]
  },
  {
   "cell_type": "code",
   "execution_count": 3,
   "metadata": {},
   "outputs": [],
   "source": [
    "check.check_julian_day(doy=300)"
   ]
  },
  {
   "cell_type": "code",
   "execution_count": 4,
   "metadata": {},
   "outputs": [
    {
     "ename": "ValueError",
     "evalue": "Julian Day (doy) Must Be in Range 1-366: 400",
     "output_type": "error",
     "traceback": [
      "\u001b[0;31m---------------------------------------------------------------------------\u001b[0m",
      "\u001b[0;31mValueError\u001b[0m                                Traceback (most recent call last)",
      "\u001b[1;32m/home/pooya/w/QDWB/qdwb/evapotranspiration/test.ipynb Cell 8'\u001b[0m in \u001b[0;36m<cell line: 1>\u001b[0;34m()\u001b[0m\n\u001b[0;32m----> <a href='vscode-notebook-cell://wsl%2Bubuntu-20.04/home/pooya/w/QDWB/qdwb/evapotranspiration/test.ipynb#ch0000002vscode-remote?line=0'>1</a>\u001b[0m check\u001b[39m.\u001b[39;49mcheck_julian_day(doy\u001b[39m=\u001b[39;49m\u001b[39m400\u001b[39;49m)\n",
      "File \u001b[0;32m~/w/QDWB/qdwb/evapotranspiration/check.py:39\u001b[0m, in \u001b[0;36mcheck_julian_day\u001b[0;34m(doy)\u001b[0m\n\u001b[1;32m     <a href='file:///home/pooya/w/QDWB/qdwb/evapotranspiration/check.py?line=27'>28</a>\u001b[0m \u001b[39m\"\"\"\u001b[39;00m\n\u001b[1;32m     <a href='file:///home/pooya/w/QDWB/qdwb/evapotranspiration/check.py?line=28'>29</a>\u001b[0m \u001b[39mDescription\u001b[39;00m\n\u001b[1;32m     <a href='file:///home/pooya/w/QDWB/qdwb/evapotranspiration/check.py?line=29'>30</a>\u001b[0m \u001b[39m-----------\u001b[39;00m\n\u001b[0;32m   (...)\u001b[0m\n\u001b[1;32m     <a href='file:///home/pooya/w/QDWB/qdwb/evapotranspiration/check.py?line=35'>36</a>\u001b[0m \u001b[39m    Julian Day of the Year\u001b[39;00m\n\u001b[1;32m     <a href='file:///home/pooya/w/QDWB/qdwb/evapotranspiration/check.py?line=36'>37</a>\u001b[0m \u001b[39m\"\"\"\u001b[39;00m\n\u001b[1;32m     <a href='file:///home/pooya/w/QDWB/qdwb/evapotranspiration/check.py?line=37'>38</a>\u001b[0m \u001b[39mif\u001b[39;00m \u001b[39mnot\u001b[39;00m \u001b[39m1\u001b[39m \u001b[39m<\u001b[39m\u001b[39m=\u001b[39m doy \u001b[39m<\u001b[39m\u001b[39m=\u001b[39m \u001b[39m366\u001b[39m:\n\u001b[0;32m---> <a href='file:///home/pooya/w/QDWB/qdwb/evapotranspiration/check.py?line=38'>39</a>\u001b[0m     \u001b[39mraise\u001b[39;00m \u001b[39mValueError\u001b[39;00m(\n\u001b[1;32m     <a href='file:///home/pooya/w/QDWB/qdwb/evapotranspiration/check.py?line=39'>40</a>\u001b[0m         \u001b[39mf\u001b[39m\u001b[39m'\u001b[39m\u001b[39mJulian Day (doy) Must Be in Range 1-366: \u001b[39m\u001b[39m{\u001b[39;00mdoy\u001b[39m}\u001b[39;00m\u001b[39m'\u001b[39m\n\u001b[1;32m     <a href='file:///home/pooya/w/QDWB/qdwb/evapotranspiration/check.py?line=40'>41</a>\u001b[0m     )\n",
      "\u001b[0;31mValueError\u001b[0m: Julian Day (doy) Must Be in Range 1-366: 400"
     ]
    }
   ],
   "source": [
    "check.check_julian_day(doy=400)"
   ]
  },
  {
   "cell_type": "markdown",
   "metadata": {},
   "source": [
    "### Test Check Latitude Is Valid"
   ]
  },
  {
   "cell_type": "code",
   "execution_count": 5,
   "metadata": {},
   "outputs": [],
   "source": [
    "lat_degrees = 45\n",
    "lat_radians = convert.degrees2radians(degrees=lat_degrees)\n",
    "\n",
    "check.check_latitude_radians(latitude=lat_radians)"
   ]
  },
  {
   "cell_type": "code",
   "execution_count": 6,
   "metadata": {},
   "outputs": [
    {
     "ename": "ValueError",
     "evalue": "Latitude Outside Valid Range -1.5707963267948966 to 1.5707963267948966 radians: -2.356194490192345",
     "output_type": "error",
     "traceback": [
      "\u001b[0;31m---------------------------------------------------------------------------\u001b[0m",
      "\u001b[0;31mValueError\u001b[0m                                Traceback (most recent call last)",
      "\u001b[1;32m/home/pooya/w/QDWB/qdwb/evapotranspiration/test.ipynb Cell 11'\u001b[0m in \u001b[0;36m<cell line: 4>\u001b[0;34m()\u001b[0m\n\u001b[1;32m      <a href='vscode-notebook-cell://wsl%2Bubuntu-20.04/home/pooya/w/QDWB/qdwb/evapotranspiration/test.ipynb#ch0000011vscode-remote?line=0'>1</a>\u001b[0m lat_degrees \u001b[39m=\u001b[39m \u001b[39m-\u001b[39m\u001b[39m135\u001b[39m\n\u001b[1;32m      <a href='vscode-notebook-cell://wsl%2Bubuntu-20.04/home/pooya/w/QDWB/qdwb/evapotranspiration/test.ipynb#ch0000011vscode-remote?line=1'>2</a>\u001b[0m lat_radians \u001b[39m=\u001b[39m convert\u001b[39m.\u001b[39mdegrees2radians(degrees\u001b[39m=\u001b[39mlat_degrees)\n\u001b[0;32m----> <a href='vscode-notebook-cell://wsl%2Bubuntu-20.04/home/pooya/w/QDWB/qdwb/evapotranspiration/test.ipynb#ch0000011vscode-remote?line=3'>4</a>\u001b[0m check\u001b[39m.\u001b[39;49mcheck_latitude_radians(latitude\u001b[39m=\u001b[39;49mlat_radians)\n",
      "File \u001b[0;32m~/w/QDWB/qdwb/evapotranspiration/check.py:57\u001b[0m, in \u001b[0;36mcheck_latitude_radians\u001b[0;34m(latitude)\u001b[0m\n\u001b[1;32m     <a href='file:///home/pooya/w/QDWB/qdwb/evapotranspiration/check.py?line=45'>46</a>\u001b[0m \u001b[39m\"\"\"\u001b[39;00m\n\u001b[1;32m     <a href='file:///home/pooya/w/QDWB/qdwb/evapotranspiration/check.py?line=46'>47</a>\u001b[0m \u001b[39mDescription\u001b[39;00m\n\u001b[1;32m     <a href='file:///home/pooya/w/QDWB/qdwb/evapotranspiration/check.py?line=47'>48</a>\u001b[0m \u001b[39m-----------\u001b[39;00m\n\u001b[0;32m   (...)\u001b[0m\n\u001b[1;32m     <a href='file:///home/pooya/w/QDWB/qdwb/evapotranspiration/check.py?line=53'>54</a>\u001b[0m \u001b[39m    Latitude [radians]\u001b[39;00m\n\u001b[1;32m     <a href='file:///home/pooya/w/QDWB/qdwb/evapotranspiration/check.py?line=54'>55</a>\u001b[0m \u001b[39m\"\"\"\u001b[39;00m\n\u001b[1;32m     <a href='file:///home/pooya/w/QDWB/qdwb/evapotranspiration/check.py?line=55'>56</a>\u001b[0m \u001b[39mif\u001b[39;00m \u001b[39mnot\u001b[39;00m _MINLAT_RADIANS \u001b[39m<\u001b[39m\u001b[39m=\u001b[39m latitude \u001b[39m<\u001b[39m\u001b[39m=\u001b[39m _MAXLAT_RADIANS:\n\u001b[0;32m---> <a href='file:///home/pooya/w/QDWB/qdwb/evapotranspiration/check.py?line=56'>57</a>\u001b[0m     \u001b[39mraise\u001b[39;00m \u001b[39mValueError\u001b[39;00m(\n\u001b[1;32m     <a href='file:///home/pooya/w/QDWB/qdwb/evapotranspiration/check.py?line=57'>58</a>\u001b[0m         \u001b[39mf\u001b[39m\u001b[39m'\u001b[39m\u001b[39mLatitude Outside Valid Range \u001b[39m\u001b[39m{\u001b[39;00m_MINLAT_RADIANS\u001b[39m}\u001b[39;00m\u001b[39m to \u001b[39m\u001b[39m{\u001b[39;00m _MAXLAT_RADIANS\u001b[39m}\u001b[39;00m\u001b[39m radians: \u001b[39m\u001b[39m{\u001b[39;00mlatitude\u001b[39m}\u001b[39;00m\u001b[39m'\u001b[39m\n\u001b[1;32m     <a href='file:///home/pooya/w/QDWB/qdwb/evapotranspiration/check.py?line=58'>59</a>\u001b[0m     )\n",
      "\u001b[0;31mValueError\u001b[0m: Latitude Outside Valid Range -1.5707963267948966 to 1.5707963267948966 radians: -2.356194490192345"
     ]
    }
   ],
   "source": [
    "lat_degrees = -135\n",
    "lat_radians = convert.degrees2radians(degrees=lat_degrees)\n",
    "\n",
    "check.check_latitude_radians(latitude=lat_radians)"
   ]
  },
  {
   "cell_type": "markdown",
   "metadata": {},
   "source": [
    "### Test Check Solar Declination Is Valid"
   ]
  },
  {
   "cell_type": "code",
   "execution_count": 7,
   "metadata": {},
   "outputs": [],
   "source": [
    "check.check_solar_declination_radians(sd=-0.2)"
   ]
  },
  {
   "cell_type": "code",
   "execution_count": 8,
   "metadata": {},
   "outputs": [
    {
     "ename": "ValueError",
     "evalue": "Solar Declination Outside Valid Range -0.41015237421866746 to 0.41015237421866746 radians: 10",
     "output_type": "error",
     "traceback": [
      "\u001b[0;31m---------------------------------------------------------------------------\u001b[0m",
      "\u001b[0;31mValueError\u001b[0m                                Traceback (most recent call last)",
      "\u001b[1;32m/home/pooya/w/QDWB/qdwb/evapotranspiration/test.ipynb Cell 14'\u001b[0m in \u001b[0;36m<cell line: 1>\u001b[0;34m()\u001b[0m\n\u001b[0;32m----> <a href='vscode-notebook-cell://wsl%2Bubuntu-20.04/home/pooya/w/QDWB/qdwb/evapotranspiration/test.ipynb#ch0000013vscode-remote?line=0'>1</a>\u001b[0m check\u001b[39m.\u001b[39;49mcheck_solar_declination_radians(sd\u001b[39m=\u001b[39;49m\u001b[39m10\u001b[39;49m)\n",
      "File \u001b[0;32m~/w/QDWB/qdwb/evapotranspiration/check.py:77\u001b[0m, in \u001b[0;36mcheck_solar_declination_radians\u001b[0;34m(sd)\u001b[0m\n\u001b[1;32m     <a href='file:///home/pooya/w/QDWB/qdwb/evapotranspiration/check.py?line=63'>64</a>\u001b[0m \u001b[39m\"\"\"\u001b[39;00m\n\u001b[1;32m     <a href='file:///home/pooya/w/QDWB/qdwb/evapotranspiration/check.py?line=64'>65</a>\u001b[0m \u001b[39mDescription\u001b[39;00m\n\u001b[1;32m     <a href='file:///home/pooya/w/QDWB/qdwb/evapotranspiration/check.py?line=65'>66</a>\u001b[0m \u001b[39m-----------\u001b[39;00m\n\u001b[0;32m   (...)\u001b[0m\n\u001b[1;32m     <a href='file:///home/pooya/w/QDWB/qdwb/evapotranspiration/check.py?line=73'>74</a>\u001b[0m \u001b[39m    Solar Declination [radians]\u001b[39;00m\n\u001b[1;32m     <a href='file:///home/pooya/w/QDWB/qdwb/evapotranspiration/check.py?line=74'>75</a>\u001b[0m \u001b[39m\"\"\"\u001b[39;00m\n\u001b[1;32m     <a href='file:///home/pooya/w/QDWB/qdwb/evapotranspiration/check.py?line=75'>76</a>\u001b[0m \u001b[39mif\u001b[39;00m \u001b[39mnot\u001b[39;00m _MINSOLDEC_RADIANS \u001b[39m<\u001b[39m\u001b[39m=\u001b[39m sd \u001b[39m<\u001b[39m\u001b[39m=\u001b[39m _MAXSOLDEC_RADIANS:\n\u001b[0;32m---> <a href='file:///home/pooya/w/QDWB/qdwb/evapotranspiration/check.py?line=76'>77</a>\u001b[0m     \u001b[39mraise\u001b[39;00m \u001b[39mValueError\u001b[39;00m(\n\u001b[1;32m     <a href='file:///home/pooya/w/QDWB/qdwb/evapotranspiration/check.py?line=77'>78</a>\u001b[0m         \u001b[39mf\u001b[39m\u001b[39m'\u001b[39m\u001b[39mSolar Declination Outside Valid Range \u001b[39m\u001b[39m{\u001b[39;00m_MINSOLDEC_RADIANS\u001b[39m}\u001b[39;00m\u001b[39m to \u001b[39m\u001b[39m{\u001b[39;00m_MAXSOLDEC_RADIANS\u001b[39m}\u001b[39;00m\u001b[39m radians: \u001b[39m\u001b[39m{\u001b[39;00msd\u001b[39m}\u001b[39;00m\u001b[39m'\u001b[39m\n\u001b[1;32m     <a href='file:///home/pooya/w/QDWB/qdwb/evapotranspiration/check.py?line=78'>79</a>\u001b[0m     )\n",
      "\u001b[0;31mValueError\u001b[0m: Solar Declination Outside Valid Range -0.41015237421866746 to 0.41015237421866746 radians: 10"
     ]
    }
   ],
   "source": [
    "check.check_solar_declination_radians(sd=10)"
   ]
  },
  {
   "cell_type": "markdown",
   "metadata": {},
   "source": [
    "### Test Check Sunset Hour Angle Is Valid"
   ]
  },
  {
   "cell_type": "code",
   "execution_count": 9,
   "metadata": {},
   "outputs": [],
   "source": [
    "check.check_sunset_hour_angle_radians(sha=0.2)"
   ]
  },
  {
   "cell_type": "code",
   "execution_count": 10,
   "metadata": {},
   "outputs": [
    {
     "ename": "ValueError",
     "evalue": "Sunset Hour Angle Outside Valid Range 0.0 to 3.141592653589793 radians: 4",
     "output_type": "error",
     "traceback": [
      "\u001b[0;31m---------------------------------------------------------------------------\u001b[0m",
      "\u001b[0;31mValueError\u001b[0m                                Traceback (most recent call last)",
      "\u001b[1;32m/home/pooya/w/QDWB/qdwb/evapotranspiration/test.ipynb Cell 17'\u001b[0m in \u001b[0;36m<cell line: 1>\u001b[0;34m()\u001b[0m\n\u001b[0;32m----> <a href='vscode-notebook-cell://wsl%2Bubuntu-20.04/home/pooya/w/QDWB/qdwb/evapotranspiration/test.ipynb#ch0000017vscode-remote?line=0'>1</a>\u001b[0m check\u001b[39m.\u001b[39;49mcheck_sunset_hour_angle_radians(sha\u001b[39m=\u001b[39;49m\u001b[39m4\u001b[39;49m)\n",
      "File \u001b[0;32m~/w/QDWB/qdwb/evapotranspiration/check.py:97\u001b[0m, in \u001b[0;36mcheck_sunset_hour_angle_radians\u001b[0;34m(sha)\u001b[0m\n\u001b[1;32m     <a href='file:///home/pooya/w/QDWB/qdwb/evapotranspiration/check.py?line=83'>84</a>\u001b[0m \u001b[39m\"\"\"\u001b[39;00m\n\u001b[1;32m     <a href='file:///home/pooya/w/QDWB/qdwb/evapotranspiration/check.py?line=84'>85</a>\u001b[0m \u001b[39mDescription\u001b[39;00m\n\u001b[1;32m     <a href='file:///home/pooya/w/QDWB/qdwb/evapotranspiration/check.py?line=85'>86</a>\u001b[0m \u001b[39m-----------\u001b[39;00m\n\u001b[0;32m   (...)\u001b[0m\n\u001b[1;32m     <a href='file:///home/pooya/w/QDWB/qdwb/evapotranspiration/check.py?line=93'>94</a>\u001b[0m \u001b[39m    Sunset Hour Angle [radians]\u001b[39;00m\n\u001b[1;32m     <a href='file:///home/pooya/w/QDWB/qdwb/evapotranspiration/check.py?line=94'>95</a>\u001b[0m \u001b[39m\"\"\"\u001b[39;00m\n\u001b[1;32m     <a href='file:///home/pooya/w/QDWB/qdwb/evapotranspiration/check.py?line=95'>96</a>\u001b[0m \u001b[39mif\u001b[39;00m \u001b[39mnot\u001b[39;00m _MINSHA_RADIANS \u001b[39m<\u001b[39m\u001b[39m=\u001b[39m sha \u001b[39m<\u001b[39m\u001b[39m=\u001b[39m _MAXSHA_RADIANS:\n\u001b[0;32m---> <a href='file:///home/pooya/w/QDWB/qdwb/evapotranspiration/check.py?line=96'>97</a>\u001b[0m     \u001b[39mraise\u001b[39;00m \u001b[39mValueError\u001b[39;00m(\n\u001b[1;32m     <a href='file:///home/pooya/w/QDWB/qdwb/evapotranspiration/check.py?line=97'>98</a>\u001b[0m         \u001b[39mf\u001b[39m\u001b[39m'\u001b[39m\u001b[39mSunset Hour Angle Outside Valid Range \u001b[39m\u001b[39m{\u001b[39;00m_MINSHA_RADIANS\u001b[39m}\u001b[39;00m\u001b[39m to \u001b[39m\u001b[39m{\u001b[39;00m_MAXSHA_RADIANS\u001b[39m}\u001b[39;00m\u001b[39m radians: \u001b[39m\u001b[39m{\u001b[39;00msha\u001b[39m}\u001b[39;00m\u001b[39m'\u001b[39m\n\u001b[1;32m     <a href='file:///home/pooya/w/QDWB/qdwb/evapotranspiration/check.py?line=98'>99</a>\u001b[0m     )\n",
      "\u001b[0;31mValueError\u001b[0m: Sunset Hour Angle Outside Valid Range 0.0 to 3.141592653589793 radians: 4"
     ]
    }
   ],
   "source": [
    "check.check_sunset_hour_angle_radians(sha=4)"
   ]
  },
  {
   "cell_type": "markdown",
   "metadata": {},
   "source": [
    "# Convert"
   ]
  },
  {
   "cell_type": "markdown",
   "metadata": {},
   "source": [
    "### Test Convert Temperature in Degrees Celsius to Degrees Kelvin"
   ]
  },
  {
   "cell_type": "code",
   "execution_count": 11,
   "metadata": {},
   "outputs": [
    {
     "data": {
      "text/plain": [
       "273.15"
      ]
     },
     "execution_count": 11,
     "metadata": {},
     "output_type": "execute_result"
    }
   ],
   "source": [
    "convert.celsius2kelvin(celsius=0)"
   ]
  },
  {
   "cell_type": "markdown",
   "metadata": {},
   "source": [
    "### Test Convert Temperature in Degrees Kelvin to Degrees Celsius."
   ]
  },
  {
   "cell_type": "code",
   "execution_count": 12,
   "metadata": {},
   "outputs": [
    {
     "data": {
      "text/plain": [
       "0.0"
      ]
     },
     "execution_count": 12,
     "metadata": {},
     "output_type": "execute_result"
    }
   ],
   "source": [
    "convert.kelvin2celsius(kelvin=273.15)"
   ]
  },
  {
   "cell_type": "markdown",
   "metadata": {},
   "source": [
    "### Test Convert Angular Degrees to Radians"
   ]
  },
  {
   "cell_type": "code",
   "execution_count": 13,
   "metadata": {},
   "outputs": [
    {
     "data": {
      "text/plain": [
       "1.5707963267948966"
      ]
     },
     "execution_count": 13,
     "metadata": {},
     "output_type": "execute_result"
    }
   ],
   "source": [
    "convert.degrees2radians(degrees=90)"
   ]
  },
  {
   "cell_type": "markdown",
   "metadata": {},
   "source": [
    "### Test Convert Angular Radians to Degrees"
   ]
  },
  {
   "cell_type": "code",
   "execution_count": 14,
   "metadata": {},
   "outputs": [
    {
     "data": {
      "text/plain": [
       "90.0"
      ]
     },
     "execution_count": 14,
     "metadata": {},
     "output_type": "execute_result"
    }
   ],
   "source": [
    "convert.radians2degrees(radians=1.5707963267948966)"
   ]
  },
  {
   "cell_type": "markdown",
   "metadata": {},
   "source": [
    "### Test Convert Radiation in MJ/m2/day to Equivalent Evaporation in mm/day"
   ]
  },
  {
   "cell_type": "code",
   "execution_count": 15,
   "metadata": {},
   "outputs": [
    {
     "data": {
      "text/plain": [
       "1.0"
      ]
     },
     "execution_count": 15,
     "metadata": {},
     "output_type": "execute_result"
    }
   ],
   "source": [
    "# equivalent evaporation (mm/day) 1 mm day-1 = 2.4509 MJ m-2 day-1\n",
    "convert.radiation2evaporation(radiation=2.4509).__round__(2)"
   ]
  },
  {
   "cell_type": "markdown",
   "metadata": {},
   "source": [
    "# pet"
   ]
  },
  {
   "cell_type": "markdown",
   "metadata": {},
   "source": [
    "### Test Calculate Solar Declination Function"
   ]
  },
  {
   "cell_type": "code",
   "execution_count": 16,
   "metadata": {},
   "outputs": [
    {
     "data": {
      "text/plain": [
       "0.12"
      ]
     },
     "execution_count": 16,
     "metadata": {},
     "output_type": "execute_result"
    }
   ],
   "source": [
    "# Test Based on Example 8, p.80 of FAO-56 paper:\n",
    "# If:\n",
    "#   day_of_year (Julian Day) = 246,\n",
    "# Then:\n",
    "#   solar_dec (Solar Declination) = 0.120 Radians.\n",
    "\n",
    "pet.solar_declination(day_of_year=246).__round__(3)"
   ]
  },
  {
   "cell_type": "markdown",
   "metadata": {},
   "source": [
    "### Test Calculate the Inverse Relative Distance Between Earth and Sun Function"
   ]
  },
  {
   "cell_type": "code",
   "execution_count": 17,
   "metadata": {},
   "outputs": [
    {
     "data": {
      "text/plain": [
       "0.985"
      ]
     },
     "execution_count": 17,
     "metadata": {},
     "output_type": "execute_result"
    }
   ],
   "source": [
    "# Test Based on Example 8, p.80 of FAO-56 paper:\n",
    "# If:\n",
    "#   day_of_year (Julian Day) = 246,\n",
    "# Then:\n",
    "#   irdes (Inverse Relative Distance Between Earth and Sun) = 0.985 Radians.\n",
    "\n",
    "pet.inverse_relative_distance_earth_sun(day_of_year=246).__round__(3)"
   ]
  },
  {
   "cell_type": "markdown",
   "metadata": {},
   "source": [
    "### Test Calculate Sunset Hour Angle Function"
   ]
  },
  {
   "cell_type": "code",
   "execution_count": 18,
   "metadata": {},
   "outputs": [
    {
     "data": {
      "text/plain": [
       "1.527"
      ]
     },
     "execution_count": 18,
     "metadata": {},
     "output_type": "execute_result"
    }
   ],
   "source": [
    "# Test Based on Example 8, p.80 of FAO-56 paper:\n",
    "# If:\n",
    "#   latitude = -20 Degree,\n",
    "#   solar_dec (Solar Declination) = 0.120 Radians,\n",
    "# Then:\n",
    "#   sha (Sunset Hour Angle) = 1.527 Radians.\n",
    "\n",
    "pet.sunset_hour_angle(latitude=convert.degrees2radians(degrees=-20), solar_dec=0.120).__round__(3)"
   ]
  },
  {
   "cell_type": "markdown",
   "metadata": {},
   "source": [
    "### Test Calculate Daily Extraterrestrial Radiation Function"
   ]
  },
  {
   "cell_type": "code",
   "execution_count": 19,
   "metadata": {},
   "outputs": [
    {
     "data": {
      "text/plain": [
       "32.2"
      ]
     },
     "execution_count": 19,
     "metadata": {},
     "output_type": "execute_result"
    }
   ],
   "source": [
    "# Test Based on Example 8, p.80 of FAO-56 paper:\n",
    "# If:\n",
    "#   latitude = -20 Degree,\n",
    "#   solar_dec (Solar Declination) = 0.120 Radians,\n",
    "#   sha (Sunset Hour Angle) = 1.527 Radians,\n",
    "#   irdes (Inverse Relative Distance Earth Sun) = 0.985 Radians,\n",
    "# Then:\n",
    "#   ra (Extraterrestrial Radiation) = 32.2 MJ m-2 day-1.\n",
    "\n",
    "pet.extraterrestrial_radiation(\n",
    "    latitude=convert.degrees2radians(degrees=-20), \n",
    "    solar_dec=0.120, \n",
    "    sha=1.527, \n",
    "    irdes=0.985\n",
    ").__round__(1)"
   ]
  },
  {
   "cell_type": "markdown",
   "metadata": {},
   "source": [
    "### Test Estimate Reference Crop Evapotranspiration (ETo) Using the Hargreaves and Samani Method Function"
   ]
  },
  {
   "cell_type": "code",
   "execution_count": 20,
   "metadata": {},
   "outputs": [
    {
     "data": {
      "text/plain": [
       "6.1"
      ]
     },
     "execution_count": 20,
     "metadata": {},
     "output_type": "execute_result"
    }
   ],
   "source": [
    "# Tested against worked example from,\n",
    "# \"Estimating Evapotranspiration from Weather Data\",\n",
    "# by Vishal K. Mehta, Arghyam,\n",
    "# Nov 2, 2006.\n",
    "\n",
    "# If:\n",
    "#   tmin = 28 Degrees Celsius,\n",
    "#   tmax = 38 Degrees Celsius,\n",
    "#   tmean = 35 Degrees Celsius,\n",
    "#   ra (Extraterrestrial Radiation) = 38.93715 mm/day,\n",
    "# Then:\n",
    "#   PET_HS = 6.1 mm/day.\n",
    "\n",
    "pet.hargreaves_samani(\n",
    "    tmin=28, \n",
    "    tmax=38, \n",
    "    tmean=35, \n",
    "    ra=38.93715\n",
    ").__round__(1)"
   ]
  },
  {
   "cell_type": "markdown",
   "metadata": {},
   "source": [
    "### Test for Dataframe"
   ]
  },
  {
   "cell_type": "code",
   "execution_count": 21,
   "metadata": {},
   "outputs": [
    {
     "data": {
      "text/html": [
       "<div>\n",
       "<style scoped>\n",
       "    .dataframe tbody tr th:only-of-type {\n",
       "        vertical-align: middle;\n",
       "    }\n",
       "\n",
       "    .dataframe tbody tr th {\n",
       "        vertical-align: top;\n",
       "    }\n",
       "\n",
       "    .dataframe thead th {\n",
       "        text-align: right;\n",
       "    }\n",
       "</style>\n",
       "<table border=\"1\" class=\"dataframe\">\n",
       "  <thead>\n",
       "    <tr style=\"text-align: right;\">\n",
       "      <th></th>\n",
       "      <th>Tmin</th>\n",
       "      <th>Tmax</th>\n",
       "      <th>Tmean</th>\n",
       "      <th>Ra</th>\n",
       "      <th>PET_HS</th>\n",
       "    </tr>\n",
       "  </thead>\n",
       "  <tbody>\n",
       "    <tr>\n",
       "      <th>0</th>\n",
       "      <td>28</td>\n",
       "      <td>38</td>\n",
       "      <td>35</td>\n",
       "      <td>38.93715</td>\n",
       "      <td>6.10079</td>\n",
       "    </tr>\n",
       "    <tr>\n",
       "      <th>1</th>\n",
       "      <td>28</td>\n",
       "      <td>38</td>\n",
       "      <td>35</td>\n",
       "      <td>38.93715</td>\n",
       "      <td>6.10079</td>\n",
       "    </tr>\n",
       "    <tr>\n",
       "      <th>2</th>\n",
       "      <td>28</td>\n",
       "      <td>38</td>\n",
       "      <td>35</td>\n",
       "      <td>38.93715</td>\n",
       "      <td>6.10079</td>\n",
       "    </tr>\n",
       "    <tr>\n",
       "      <th>3</th>\n",
       "      <td>28</td>\n",
       "      <td>38</td>\n",
       "      <td>35</td>\n",
       "      <td>38.93715</td>\n",
       "      <td>6.10079</td>\n",
       "    </tr>\n",
       "    <tr>\n",
       "      <th>4</th>\n",
       "      <td>28</td>\n",
       "      <td>38</td>\n",
       "      <td>35</td>\n",
       "      <td>38.93715</td>\n",
       "      <td>6.10079</td>\n",
       "    </tr>\n",
       "    <tr>\n",
       "      <th>...</th>\n",
       "      <td>...</td>\n",
       "      <td>...</td>\n",
       "      <td>...</td>\n",
       "      <td>...</td>\n",
       "      <td>...</td>\n",
       "    </tr>\n",
       "    <tr>\n",
       "      <th>99995</th>\n",
       "      <td>28</td>\n",
       "      <td>38</td>\n",
       "      <td>35</td>\n",
       "      <td>38.93715</td>\n",
       "      <td>6.10079</td>\n",
       "    </tr>\n",
       "    <tr>\n",
       "      <th>99996</th>\n",
       "      <td>28</td>\n",
       "      <td>38</td>\n",
       "      <td>35</td>\n",
       "      <td>38.93715</td>\n",
       "      <td>6.10079</td>\n",
       "    </tr>\n",
       "    <tr>\n",
       "      <th>99997</th>\n",
       "      <td>28</td>\n",
       "      <td>38</td>\n",
       "      <td>35</td>\n",
       "      <td>38.93715</td>\n",
       "      <td>6.10079</td>\n",
       "    </tr>\n",
       "    <tr>\n",
       "      <th>99998</th>\n",
       "      <td>28</td>\n",
       "      <td>38</td>\n",
       "      <td>35</td>\n",
       "      <td>38.93715</td>\n",
       "      <td>6.10079</td>\n",
       "    </tr>\n",
       "    <tr>\n",
       "      <th>99999</th>\n",
       "      <td>28</td>\n",
       "      <td>38</td>\n",
       "      <td>35</td>\n",
       "      <td>38.93715</td>\n",
       "      <td>6.10079</td>\n",
       "    </tr>\n",
       "  </tbody>\n",
       "</table>\n",
       "<p>100000 rows × 5 columns</p>\n",
       "</div>"
      ],
      "text/plain": [
       "       Tmin  Tmax  Tmean        Ra   PET_HS\n",
       "0        28    38     35  38.93715  6.10079\n",
       "1        28    38     35  38.93715  6.10079\n",
       "2        28    38     35  38.93715  6.10079\n",
       "3        28    38     35  38.93715  6.10079\n",
       "4        28    38     35  38.93715  6.10079\n",
       "...     ...   ...    ...       ...      ...\n",
       "99995    28    38     35  38.93715  6.10079\n",
       "99996    28    38     35  38.93715  6.10079\n",
       "99997    28    38     35  38.93715  6.10079\n",
       "99998    28    38     35  38.93715  6.10079\n",
       "99999    28    38     35  38.93715  6.10079\n",
       "\n",
       "[100000 rows x 5 columns]"
      ]
     },
     "execution_count": 21,
     "metadata": {},
     "output_type": "execute_result"
    }
   ],
   "source": [
    "import pandas as pd\n",
    "\n",
    "df = pd.DataFrame(\n",
    "    {\n",
    "        \"Tmin\": [28] * 100000,\n",
    "        \"Tmax\": [38] * 100000,\n",
    "        \"Tmean\": [35] * 100000,\n",
    "        \"Ra\": [38.93715] * 100000\n",
    "    }\n",
    ")\n",
    "\n",
    "df[\"PET_HS\"] = df.apply(\n",
    "    lambda row: pet.hargreaves_samani(\n",
    "        tmin=row.Tmin,\n",
    "        tmax=row.Tmax,\n",
    "        tmean=row.Tmean,\n",
    "        ra=row.Ra\n",
    "    ),\n",
    "    axis=1\n",
    ")\n",
    "\n",
    "df"
   ]
  }
 ],
 "metadata": {
  "interpreter": {
   "hash": "50ad620447b2a1bacef37ffa000eaeb924763328986f9606fa13da46e8e234de"
  },
  "kernelspec": {
   "display_name": "Python 3.9.12 ('.venv': venv)",
   "language": "python",
   "name": "python3"
  },
  "language_info": {
   "codemirror_mode": {
    "name": "ipython",
    "version": 3
   },
   "file_extension": ".py",
   "mimetype": "text/x-python",
   "name": "python",
   "nbconvert_exporter": "python",
   "pygments_lexer": "ipython3",
   "version": "3.9.12"
  },
  "orig_nbformat": 4
 },
 "nbformat": 4,
 "nbformat_minor": 2
}

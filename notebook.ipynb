{
 "cells": [
  {
   "cell_type": "code",
   "execution_count": 2,
   "metadata": {},
   "outputs": [
    {
     "data": {
      "text/plain": [
       "3.884336278719094"
      ]
     },
     "execution_count": 2,
     "metadata": {},
     "output_type": "execute_result"
    }
   ],
   "source": [
    "import qdwb\n",
    "\n",
    "qdwb.ReferenceEvapotranspiration.hargreaves_samani(\n",
    "    tmin=28, \n",
    "    tmean=35, \n",
    "    tmax=38, \n",
    "    ra=38.93715\n",
    ")\n",
    "\n",
    "qdwb.ReferenceEvapotranspiration.fao56_penman_monteith(\n",
    "    delta=0.122,\n",
    "    rn=13.28,\n",
    "    G=0.0,\n",
    "    gamma=0.066,\n",
    "    tmean=16.9,\n",
    "    u2=2.078,\n",
    "    es=1.997,\n",
    "    ea=1.409\n",
    ")"
   ]
  }
 ],
 "metadata": {
  "kernelspec": {
   "display_name": "Python 3.9.13 ('.venv': venv)",
   "language": "python",
   "name": "python3"
  },
  "language_info": {
   "codemirror_mode": {
    "name": "ipython",
    "version": 3
   },
   "file_extension": ".py",
   "mimetype": "text/x-python",
   "name": "python",
   "nbconvert_exporter": "python",
   "pygments_lexer": "ipython3",
   "version": "3.9.13"
  },
  "orig_nbformat": 4,
  "vscode": {
   "interpreter": {
    "hash": "a0ca5686601da25be5f04feb0be3fc69f9ebb1d56ae3b55314f99e073fdd985b"
   }
  }
 },
 "nbformat": 4,
 "nbformat_minor": 2
}
